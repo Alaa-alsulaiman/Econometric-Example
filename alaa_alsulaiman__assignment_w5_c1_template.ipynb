{
  "nbformat": 4,
  "nbformat_minor": 0,
  "metadata": {
    "kernelspec": {
      "display_name": "Python 3",
      "language": "python",
      "name": "python3"
    },
    "language_info": {
      "codemirror_mode": {
        "name": "ipython",
        "version": 3
      },
      "file_extension": ".py",
      "mimetype": "text/x-python",
      "name": "python",
      "nbconvert_exporter": "python",
      "pygments_lexer": "ipython3",
      "version": "3.8.5"
    },
    "colab": {
      "name": "1636325356__assignment_w5_c1_template.ipynb",
      "provenance": [],
      "include_colab_link": true
    }
  },
  "cells": [
    {
      "cell_type": "markdown",
      "metadata": {
        "id": "view-in-github",
        "colab_type": "text"
      },
      "source": [
        "<a href=\"https://colab.research.google.com/github/Alaa-alsulaiman/Econometric-Example/blob/main/alaa_alsulaiman__assignment_w5_c1_template.ipynb\" target=\"_parent\"><img src=\"https://colab.research.google.com/assets/colab-badge.svg\" alt=\"Open In Colab\"/></a>"
      ]
    },
    {
      "cell_type": "markdown",
      "metadata": {
        "id": "uEvBXe1-Hqql"
      },
      "source": [
        "Week 5, Assignment C1:\n",
        "\n",
        "Logistic Regression with Yahoo! Finance API in Python\n",
        "\n",
        "In this notebook, we will study Logistic Regression using the Yahoo! Finance API in Python.\n",
        "\n",
        "Please complete the lines bellow where you see \"#TODO\"."
      ]
    },
    {
      "cell_type": "code",
      "metadata": {
        "colab": {
          "base_uri": "https://localhost:8080/"
        },
        "id": "y4kyYzN2qsqt",
        "outputId": "706b36e7-0c2d-4fe4-fa7b-ad979ba0791e"
      },
      "source": [
        "! pip install yfinance"
      ],
      "execution_count": 1,
      "outputs": [
        {
          "output_type": "stream",
          "name": "stdout",
          "text": [
            "Requirement already satisfied: yfinance in /usr/local/lib/python3.7/dist-packages (0.1.64)\n",
            "Requirement already satisfied: pandas>=0.24 in /usr/local/lib/python3.7/dist-packages (from yfinance) (1.1.5)\n",
            "Requirement already satisfied: lxml>=4.5.1 in /usr/local/lib/python3.7/dist-packages (from yfinance) (4.6.4)\n",
            "Requirement already satisfied: numpy>=1.15 in /usr/local/lib/python3.7/dist-packages (from yfinance) (1.19.5)\n",
            "Requirement already satisfied: requests>=2.20 in /usr/local/lib/python3.7/dist-packages (from yfinance) (2.23.0)\n",
            "Requirement already satisfied: multitasking>=0.0.7 in /usr/local/lib/python3.7/dist-packages (from yfinance) (0.0.9)\n",
            "Requirement already satisfied: python-dateutil>=2.7.3 in /usr/local/lib/python3.7/dist-packages (from pandas>=0.24->yfinance) (2.8.2)\n",
            "Requirement already satisfied: pytz>=2017.2 in /usr/local/lib/python3.7/dist-packages (from pandas>=0.24->yfinance) (2018.9)\n",
            "Requirement already satisfied: six>=1.5 in /usr/local/lib/python3.7/dist-packages (from python-dateutil>=2.7.3->pandas>=0.24->yfinance) (1.15.0)\n",
            "Requirement already satisfied: chardet<4,>=3.0.2 in /usr/local/lib/python3.7/dist-packages (from requests>=2.20->yfinance) (3.0.4)\n",
            "Requirement already satisfied: idna<3,>=2.5 in /usr/local/lib/python3.7/dist-packages (from requests>=2.20->yfinance) (2.10)\n",
            "Requirement already satisfied: urllib3!=1.25.0,!=1.25.1,<1.26,>=1.21.1 in /usr/local/lib/python3.7/dist-packages (from requests>=2.20->yfinance) (1.24.3)\n",
            "Requirement already satisfied: certifi>=2017.4.17 in /usr/local/lib/python3.7/dist-packages (from requests>=2.20->yfinance) (2021.5.30)\n"
          ]
        }
      ]
    },
    {
      "cell_type": "code",
      "metadata": {
        "id": "lbz5mTIHHqqu"
      },
      "source": [
        "#Objective 1.\n",
        "#Use this cell to import the Numpy (as np), Pandas (as pd), and YFinance (as yf) packages.\n",
        "import pandas\n",
        "import numpy as np\n",
        "import pandas as pd\n",
        "import yfinance as yf\n",
        "#Our work will also require some components of the Sklearn and Pandas_Datareader packages as imported below:\n",
        "\n",
        "import sklearn\n",
        "from sklearn.linear_model import LogisticRegression\n",
        "from sklearn import metrics\n",
        "from sklearn.model_selection import cross_val_score\n",
        "from pandas_datareader import data as pdr\n",
        "yf.pdr_override()"
      ],
      "execution_count": 2,
      "outputs": []
    },
    {
      "cell_type": "code",
      "metadata": {
        "id": "o7WqXboAHqqx"
      },
      "source": [
        "#Objective 2.\n",
        "#Select a stock symbol for a stock whose historical data is available on the Yahoo! Finance website.  Store the\n",
        "#string of your chosen symbol to the new variable \"stock_symbol\".\n",
        "\n",
        "stock_symbol = 'AMZN'"
      ],
      "execution_count": 3,
      "outputs": []
    },
    {
      "cell_type": "code",
      "metadata": {
        "colab": {
          "base_uri": "https://localhost:8080/"
        },
        "id": "RhGIZzf1Hqqz",
        "outputId": "5c90ba17-6dcd-40c5-d737-2cbd498ef085"
      },
      "source": [
        "#Objective 3.\n",
        "#Use the function \"pdr.get_data_yahoo(stock_symbol, start_date, end_date)\" to generate a Pandas dataframe of\n",
        "#historical stock data for your chosen stock.  Retain only the first four columns of the dataframe.  Be sure to \n",
        "#drop any rows containing NaN's, and take a peek at the resulting dataframe to make sure everything looks good.\n",
        "\n",
        "df = pdr.get_data_yahoo(stock_symbol, pandas.Timestamp('2019'), pandas.Timestamp('2021'))\n",
        "df = df[['Open','High','Low','Close']]\n",
        "df = df.dropna()"
      ],
      "execution_count": 4,
      "outputs": [
        {
          "output_type": "stream",
          "name": "stdout",
          "text": [
            "\r[*********************100%***********************]  1 of 1 completed\n"
          ]
        }
      ]
    },
    {
      "cell_type": "code",
      "metadata": {
        "colab": {
          "base_uri": "https://localhost:8080/",
          "height": 467
        },
        "id": "eO17r3WrqTV8",
        "outputId": "c18a923b-6a36-4db8-82da-504b8b8cf4d4"
      },
      "source": [
        "df[pdr.get_data_yahoo(stock_symbol, pandas.Timestamp('2019'), pandas.Timestamp('2021')).columns[0:4]]"
      ],
      "execution_count": 5,
      "outputs": [
        {
          "output_type": "stream",
          "name": "stdout",
          "text": [
            "\r[*********************100%***********************]  1 of 1 completed\n"
          ]
        },
        {
          "output_type": "execute_result",
          "data": {
            "text/html": [
              "<div>\n",
              "<style scoped>\n",
              "    .dataframe tbody tr th:only-of-type {\n",
              "        vertical-align: middle;\n",
              "    }\n",
              "\n",
              "    .dataframe tbody tr th {\n",
              "        vertical-align: top;\n",
              "    }\n",
              "\n",
              "    .dataframe thead th {\n",
              "        text-align: right;\n",
              "    }\n",
              "</style>\n",
              "<table border=\"1\" class=\"dataframe\">\n",
              "  <thead>\n",
              "    <tr style=\"text-align: right;\">\n",
              "      <th></th>\n",
              "      <th>Open</th>\n",
              "      <th>High</th>\n",
              "      <th>Low</th>\n",
              "      <th>Close</th>\n",
              "    </tr>\n",
              "    <tr>\n",
              "      <th>Date</th>\n",
              "      <th></th>\n",
              "      <th></th>\n",
              "      <th></th>\n",
              "      <th></th>\n",
              "    </tr>\n",
              "  </thead>\n",
              "  <tbody>\n",
              "    <tr>\n",
              "      <th>2019-01-02</th>\n",
              "      <td>1465.199951</td>\n",
              "      <td>1553.359985</td>\n",
              "      <td>1460.930054</td>\n",
              "      <td>1539.130005</td>\n",
              "    </tr>\n",
              "    <tr>\n",
              "      <th>2019-01-03</th>\n",
              "      <td>1520.010010</td>\n",
              "      <td>1538.000000</td>\n",
              "      <td>1497.109985</td>\n",
              "      <td>1500.280029</td>\n",
              "    </tr>\n",
              "    <tr>\n",
              "      <th>2019-01-04</th>\n",
              "      <td>1530.000000</td>\n",
              "      <td>1594.000000</td>\n",
              "      <td>1518.310059</td>\n",
              "      <td>1575.390015</td>\n",
              "    </tr>\n",
              "    <tr>\n",
              "      <th>2019-01-07</th>\n",
              "      <td>1602.310059</td>\n",
              "      <td>1634.560059</td>\n",
              "      <td>1589.189941</td>\n",
              "      <td>1629.510010</td>\n",
              "    </tr>\n",
              "    <tr>\n",
              "      <th>2019-01-08</th>\n",
              "      <td>1664.689941</td>\n",
              "      <td>1676.609985</td>\n",
              "      <td>1616.609985</td>\n",
              "      <td>1656.579956</td>\n",
              "    </tr>\n",
              "    <tr>\n",
              "      <th>...</th>\n",
              "      <td>...</td>\n",
              "      <td>...</td>\n",
              "      <td>...</td>\n",
              "      <td>...</td>\n",
              "    </tr>\n",
              "    <tr>\n",
              "      <th>2020-12-24</th>\n",
              "      <td>3193.899902</td>\n",
              "      <td>3202.000000</td>\n",
              "      <td>3169.000000</td>\n",
              "      <td>3172.689941</td>\n",
              "    </tr>\n",
              "    <tr>\n",
              "      <th>2020-12-28</th>\n",
              "      <td>3194.000000</td>\n",
              "      <td>3304.000000</td>\n",
              "      <td>3172.689941</td>\n",
              "      <td>3283.959961</td>\n",
              "    </tr>\n",
              "    <tr>\n",
              "      <th>2020-12-29</th>\n",
              "      <td>3309.939941</td>\n",
              "      <td>3350.649902</td>\n",
              "      <td>3281.219971</td>\n",
              "      <td>3322.000000</td>\n",
              "    </tr>\n",
              "    <tr>\n",
              "      <th>2020-12-30</th>\n",
              "      <td>3341.000000</td>\n",
              "      <td>3342.100098</td>\n",
              "      <td>3282.469971</td>\n",
              "      <td>3285.850098</td>\n",
              "    </tr>\n",
              "    <tr>\n",
              "      <th>2020-12-31</th>\n",
              "      <td>3275.000000</td>\n",
              "      <td>3282.919922</td>\n",
              "      <td>3241.199951</td>\n",
              "      <td>3256.929932</td>\n",
              "    </tr>\n",
              "  </tbody>\n",
              "</table>\n",
              "<p>505 rows × 4 columns</p>\n",
              "</div>"
            ],
            "text/plain": [
              "                   Open         High          Low        Close\n",
              "Date                                                          \n",
              "2019-01-02  1465.199951  1553.359985  1460.930054  1539.130005\n",
              "2019-01-03  1520.010010  1538.000000  1497.109985  1500.280029\n",
              "2019-01-04  1530.000000  1594.000000  1518.310059  1575.390015\n",
              "2019-01-07  1602.310059  1634.560059  1589.189941  1629.510010\n",
              "2019-01-08  1664.689941  1676.609985  1616.609985  1656.579956\n",
              "...                 ...          ...          ...          ...\n",
              "2020-12-24  3193.899902  3202.000000  3169.000000  3172.689941\n",
              "2020-12-28  3194.000000  3304.000000  3172.689941  3283.959961\n",
              "2020-12-29  3309.939941  3350.649902  3281.219971  3322.000000\n",
              "2020-12-30  3341.000000  3342.100098  3282.469971  3285.850098\n",
              "2020-12-31  3275.000000  3282.919922  3241.199951  3256.929932\n",
              "\n",
              "[505 rows x 4 columns]"
            ]
          },
          "metadata": {},
          "execution_count": 5
        }
      ]
    },
    {
      "cell_type": "code",
      "metadata": {
        "id": "QoC6u5orHqq1"
      },
      "source": [
        "#Objective 4.\n",
        "#Use the historical data to define some predictor variables.  Add these variables to the dataframe.  Include, at a\n",
        "#minimum, (Predictor.I) the rolling average closing price over the past fifteen (15) days and (Predictor.II) the\n",
        "#change in opening price over the past one (1) day.  Be sure to again drop any rows containing NaN's, and take a\n",
        "#peek at the resulting dataframe to make sure everything looks good.  Store the dataframe as the new variable \"X\".\n",
        "\n",
        "df['Close_15_Rolling'] = df['Close'].rolling(window=15).mean()\n",
        "df['Open_1_Change'] = df['Open'].diff()\n",
        "df = df.dropna()\n",
        "X = df"
      ],
      "execution_count": 6,
      "outputs": []
    },
    {
      "cell_type": "code",
      "metadata": {
        "id": "n8Er26M7Hqq4"
      },
      "source": [
        "#Objective 5.\n",
        "#Define the target or dependent variable to be one (1) if the change in closing price over the past one (1) day is\n",
        "#nonnegative and negative one (-1) if the change in closing price over the past one (1) day is negative.  This\n",
        "#variable's values should be forward-looking (i.e., you should subtract today's price from tomorrow's price rather\n",
        "#than subtracting yesterday's price from today's price).  Store the resulting values as the new variable \"y\".  You\n",
        "#may find the \"np.where(*args)\" function to be useful.  Look it up in Numpy documentation for support.\n",
        "\n",
        "y = np.where((df.Close.shift(-1)-df['Close'])>=0,1,-1)"
      ],
      "execution_count": 7,
      "outputs": []
    },
    {
      "cell_type": "code",
      "metadata": {
        "id": "SR0kqOObHqq5"
      },
      "source": [
        "#Objective 6.\n",
        "#Split the data into training and test sets, putting the first seventy percent (70%) of the data in the training\n",
        "#set.\n",
        "\n",
        "index = int(0.7*len(X))\n",
        "X_train= X[:index]\n",
        "X_test= X[index:]\n",
        "y_train= y[:index]\n",
        "y_test = y[index:]"
      ],
      "execution_count": 8,
      "outputs": []
    },
    {
      "cell_type": "code",
      "metadata": {
        "id": "i3t-4LMdHqq-"
      },
      "source": [
        "#Objective 7.\n",
        "#Instantiate the Logistic Regression model object, and use its \".fit(*args)\" method to fit the model to the \n",
        "#training data.\n",
        "\n",
        "logistic = LogisticRegression()\n",
        "logistic = logistic.fit(X_train,y_train)"
      ],
      "execution_count": 9,
      "outputs": []
    },
    {
      "cell_type": "code",
      "metadata": {
        "colab": {
          "base_uri": "https://localhost:8080/",
          "height": 235
        },
        "id": "cbsXga0OHqq_",
        "outputId": "6f17d465-26ba-4850-adae-02ca37211bac"
      },
      "source": [
        "#Objective 8.\n",
        "#Examine the model's coefficients by using its \".coef_\" method.\n",
        "\n",
        "pd.DataFrame({'column':X.columns.values, 'criteia': logistic.coef_.ravel()})"
      ],
      "execution_count": 10,
      "outputs": [
        {
          "output_type": "execute_result",
          "data": {
            "text/html": [
              "<div>\n",
              "<style scoped>\n",
              "    .dataframe tbody tr th:only-of-type {\n",
              "        vertical-align: middle;\n",
              "    }\n",
              "\n",
              "    .dataframe tbody tr th {\n",
              "        vertical-align: top;\n",
              "    }\n",
              "\n",
              "    .dataframe thead th {\n",
              "        text-align: right;\n",
              "    }\n",
              "</style>\n",
              "<table border=\"1\" class=\"dataframe\">\n",
              "  <thead>\n",
              "    <tr style=\"text-align: right;\">\n",
              "      <th></th>\n",
              "      <th>column</th>\n",
              "      <th>criteia</th>\n",
              "    </tr>\n",
              "  </thead>\n",
              "  <tbody>\n",
              "    <tr>\n",
              "      <th>0</th>\n",
              "      <td>Open</td>\n",
              "      <td>-0.009190</td>\n",
              "    </tr>\n",
              "    <tr>\n",
              "      <th>1</th>\n",
              "      <td>High</td>\n",
              "      <td>0.017672</td>\n",
              "    </tr>\n",
              "    <tr>\n",
              "      <th>2</th>\n",
              "      <td>Low</td>\n",
              "      <td>-0.001976</td>\n",
              "    </tr>\n",
              "    <tr>\n",
              "      <th>3</th>\n",
              "      <td>Close</td>\n",
              "      <td>-0.005930</td>\n",
              "    </tr>\n",
              "    <tr>\n",
              "      <th>4</th>\n",
              "      <td>Close_15_Rolling</td>\n",
              "      <td>-0.000662</td>\n",
              "    </tr>\n",
              "    <tr>\n",
              "      <th>5</th>\n",
              "      <td>Open_1_Change</td>\n",
              "      <td>-0.006448</td>\n",
              "    </tr>\n",
              "  </tbody>\n",
              "</table>\n",
              "</div>"
            ],
            "text/plain": [
              "             column   criteia\n",
              "0              Open -0.009190\n",
              "1              High  0.017672\n",
              "2               Low -0.001976\n",
              "3             Close -0.005930\n",
              "4  Close_15_Rolling -0.000662\n",
              "5     Open_1_Change -0.006448"
            ]
          },
          "metadata": {},
          "execution_count": 10
        }
      ]
    },
    {
      "cell_type": "code",
      "metadata": {
        "id": "fzefYCtpHqrC"
      },
      "source": [
        "#Objective 9.\n",
        "#Use the model's \".predict_proba(*args)\" and \".predict(*args)\" methods to generate predictions over the test set.\n",
        "\n",
        "probabilities = logistic.predict_proba(X_test)\n",
        "predictions = logistic.predict(X_test)"
      ],
      "execution_count": 11,
      "outputs": []
    },
    {
      "cell_type": "code",
      "metadata": {
        "colab": {
          "base_uri": "https://localhost:8080/"
        },
        "id": "M-Em88lsHqrE",
        "outputId": "fd4ded14-e87f-4e16-b68e-2d49906737c4"
      },
      "source": [
        "#Objective 10.\n",
        "#Use the function \"metrics.confusion_matrix(*args)\" to create a confusion matrix comparing the predicted and true\n",
        "#classification labels over the test set.\n",
        "\n",
        "sklearn.metrics.confusion_matrix(y_pred=predictions,y_true=y_test)"
      ],
      "execution_count": 12,
      "outputs": [
        {
          "output_type": "execute_result",
          "data": {
            "text/plain": [
              "array([[15, 54],\n",
              "       [16, 63]])"
            ]
          },
          "metadata": {},
          "execution_count": 12
        }
      ]
    },
    {
      "cell_type": "code",
      "metadata": {
        "colab": {
          "base_uri": "https://localhost:8080/"
        },
        "id": "yAB5TYr-w-lw",
        "outputId": "f5387986-f41f-4424-f427-7dd30fbece5e"
      },
      "source": [
        "print(sklearn.metrics.classification_report(y_pred=predictions,y_true=y_test))"
      ],
      "execution_count": 13,
      "outputs": [
        {
          "output_type": "stream",
          "name": "stdout",
          "text": [
            "              precision    recall  f1-score   support\n",
            "\n",
            "          -1       0.48      0.22      0.30        69\n",
            "           1       0.54      0.80      0.64        79\n",
            "\n",
            "    accuracy                           0.53       148\n",
            "   macro avg       0.51      0.51      0.47       148\n",
            "weighted avg       0.51      0.53      0.48       148\n",
            "\n"
          ]
        }
      ]
    },
    {
      "cell_type": "code",
      "metadata": {
        "colab": {
          "base_uri": "https://localhost:8080/"
        },
        "id": "R1yo5mBRHqrG",
        "outputId": "4ce31ff0-2b46-457a-cd1f-f9f1763acad6"
      },
      "source": [
        "#Objective 11.\n",
        "#Calculate the model's accuracy on the test set using its \".score(*args)\" method.\n",
        "\n",
        "logistic.score(X_test,y_test)"
      ],
      "execution_count": 14,
      "outputs": [
        {
          "output_type": "execute_result",
          "data": {
            "text/plain": [
              "0.527027027027027"
            ]
          },
          "metadata": {},
          "execution_count": 14
        }
      ]
    },
    {
      "cell_type": "code",
      "metadata": {
        "colab": {
          "base_uri": "https://localhost:8080/"
        },
        "id": "SGw9hAdwHqrH",
        "outputId": "9a4eabb0-a346-4206-fd56-b06a4ca41c19"
      },
      "source": [
        "#Objective 12.\n",
        "#Use five-fold cross validation to cross-check the accuracy of the model over different held-out test sets.  This\n",
        "#is where you should use the function \"cross_val_score(*args)\".\n",
        "\n",
        "cross_val = cross_val_score(logistic,X,y, cv=5)\n",
        "cross_val"
      ],
      "execution_count": 30,
      "outputs": [
        {
          "output_type": "execute_result",
          "data": {
            "text/plain": [
              "array([0.56565657, 0.52040816, 0.55102041, 0.51020408, 0.58163265])"
            ]
          },
          "metadata": {},
          "execution_count": 30
        }
      ]
    }
  ]
}